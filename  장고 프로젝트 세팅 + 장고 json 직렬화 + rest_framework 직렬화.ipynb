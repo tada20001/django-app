{
 "cells": [
  {
   "cell_type": "markdown",
   "metadata": {},
   "source": [
    "### Django 프로젝트 기본 셋업 : 최소한의 settings 설정\n",
    "직렬화 연습을 위한 장고 프로젝트 세팅해서 모델 돌려보기"
   ]
  },
  {
   "cell_type": "code",
   "execution_count": 1,
   "metadata": {},
   "outputs": [],
   "source": [
    "import django\n",
    "import os\n",
    "\n",
    "SECRET_KEY = 'tada'  # 임의 문자열 가능\n",
    "DATABASES = {\n",
    "    'default': {\n",
    "        'ENGINE': 'django.db.backends.sqlite3',\n",
    "        'NAME': ':memory:',\n",
    "    }\n",
    "}\n",
    "\n",
    "ROOT_URLCONF = '__main__'\n",
    "urls = []\n",
    "os.environ['DJANGO_SETTINGS_MODULE'] = '__main__'\n",
    "\n",
    "django.setup()"
   ]
  },
  {
   "cell_type": "markdown",
   "metadata": {},
   "source": [
    "### Form 클래스를 정의하고 사용하기"
   ]
  },
  {
   "cell_type": "code",
   "execution_count": 2,
   "metadata": {},
   "outputs": [],
   "source": [
    "from django import forms\n",
    "\n",
    "def odd_validator(value):\n",
    "    if value % 2 == 0:\n",
    "        raise forms.ValidationError(\"내가 짝수라니!!\")\n",
    "\n",
    "class QuizForm(forms.Form):\n",
    "    answer = forms.IntegerField(validators=[odd_validator])"
   ]
  },
  {
   "cell_type": "code",
   "execution_count": 3,
   "metadata": {},
   "outputs": [],
   "source": [
    "data = {'answer': 10}"
   ]
  },
  {
   "cell_type": "code",
   "execution_count": 4,
   "metadata": {},
   "outputs": [],
   "source": [
    "form = QuizForm(data)"
   ]
  },
  {
   "cell_type": "code",
   "execution_count": 6,
   "metadata": {},
   "outputs": [
    {
     "data": {
      "text/plain": [
       "False"
      ]
     },
     "execution_count": 6,
     "metadata": {},
     "output_type": "execute_result"
    }
   ],
   "source": [
    "form.is_valid()  # 짝수이기 때문에 유효성 검사 실패"
   ]
  },
  {
   "cell_type": "code",
   "execution_count": 7,
   "metadata": {},
   "outputs": [
    {
     "data": {
      "text/plain": [
       "{'answer': ['내가 짝수라니!!']}"
      ]
     },
     "execution_count": 7,
     "metadata": {},
     "output_type": "execute_result"
    }
   ],
   "source": [
    "form.errors"
   ]
  },
  {
   "cell_type": "markdown",
   "metadata": {},
   "source": [
    "### Model 클래스 정의하고 사용하기"
   ]
  },
  {
   "cell_type": "code",
   "execution_count": 9,
   "metadata": {},
   "outputs": [],
   "source": [
    "from django.db import models\n",
    "\n",
    "class Post(models.Model):\n",
    "    title = models.CharField(max_length=100)\n",
    "    content = models.TextField()\n",
    "    created_at = models.DateTimeField(auto_now_add=True)\n",
    "    updated_at = models.DateTimeField(auto_now=True)\n",
    "    \n",
    "    class Meta:\n",
    "        app_label = 'api'  # 앱이 따로 없으므로 app label을 필히 지정\n",
    "        \n",
    "    def __str__(self):\n",
    "        return self.title"
   ]
  },
  {
   "cell_type": "markdown",
   "metadata": {},
   "source": [
    "#### migration 여건이 안되기 때문에 모델 클래스 내역 그대로 raw SQL로 DB 테이블 생성"
   ]
  },
  {
   "cell_type": "code",
   "execution_count": 10,
   "metadata": {},
   "outputs": [],
   "source": [
    "from django.db import connection\n",
    "\n",
    "table_name = Post._meta.db_table"
   ]
  },
  {
   "cell_type": "code",
   "execution_count": 12,
   "metadata": {},
   "outputs": [],
   "source": [
    "with connection.cursor() as cursor:\n",
    "    cursor.execute('''\n",
    "    CREATE TABLE \"{}\"\n",
    "        ('id' integer NOT NULL PRIMARY KEY AUTOINCREMENT,\n",
    "        'title' varchar(100) NOT NULL,\n",
    "        \"content\" text NOT NULL,\n",
    "        \"created_at\" datetime NOT NULL,\n",
    "        \"updated_at\" datetime NOT NULL);\n",
    "    '''.format(table_name))"
   ]
  },
  {
   "cell_type": "code",
   "execution_count": 13,
   "metadata": {},
   "outputs": [
    {
     "name": "stdout",
     "output_type": "stream",
     "text": [
      "('api_post',)\n",
      "('sqlite_sequence',)\n"
     ]
    }
   ],
   "source": [
    "# table 확인 : 앱이름_모델명, \n",
    "with connection.cursor() as cursor:\n",
    "    cursor.execute(\"select name from sqlite_master where type='table';\")\n",
    "    for row in cursor.fetchall():\n",
    "        print(row)"
   ]
  },
  {
   "cell_type": "markdown",
   "metadata": {},
   "source": [
    "### Post 모델을 통한 DB에 데이터 추가"
   ]
  },
  {
   "cell_type": "code",
   "execution_count": 14,
   "metadata": {},
   "outputs": [
    {
     "data": {
      "text/plain": [
       "<Post: The Year in Artful Music: Sounds for Contemplation>"
      ]
     },
     "execution_count": 14,
     "metadata": {},
     "output_type": "execute_result"
    }
   ],
   "source": [
    "Post.objects.create(\n",
    "    title='The Year in Artful Music: Sounds for Contemplation',\n",
    "    content='Music is art in all cases, and any energy devoted to segregation is misspent. But then, at the same time, there are manifestations of music that make the unity more clear—easier to acknowledge, accept, and affirm. Yet even then, subjectivity enters in, such that the notion of distinctions starts to reveal itself as farce. And then we arrive once again at the essential truth that we started with: music is art—and on and on and on.'\n",
    ")"
   ]
  },
  {
   "cell_type": "code",
   "execution_count": 15,
   "metadata": {},
   "outputs": [
    {
     "data": {
      "text/plain": [
       "<Post: Simone Forti, Al Di Là (Saltern)>"
      ]
     },
     "execution_count": 15,
     "metadata": {},
     "output_type": "execute_result"
    }
   ],
   "source": [
    "Post.objects.create(\n",
    "    title='Simone Forti, Al Di Là (Saltern)',\n",
    "    content='Drawn from a show titled “Sounding” at the Box in Los Angeles, this compilation by the dancer/choreographer/etc. Simone Forti features aural artworks dating from the 1960s to the ’80s. One is a sung song accompanied by a shaking can of nails, as performed in Yoko Ono’s loft in 1961; another is the result of “a slide whistle equipped with a stylus.” The four-part track “Bottom” includes vocals by La Monte Young and Marian Zazeela, and then there’s “Dal Di Là,” about which Forti writes in the liner notes: “I made this song towards the end of a period of performing stoned on weed. It roughly translates: I’m awaiting a song from afar, from afar, a song of goodbye from afar. For now I’ve seen the game I was playing, slowly leaving the earth and drifting far among the stars.”'\n",
    ")"
   ]
  },
  {
   "cell_type": "code",
   "execution_count": 16,
   "metadata": {},
   "outputs": [
    {
     "data": {
      "text/plain": [
       "<Post: Technicolor Paradise: Rhum Rhapsodies & Other Exotic Delights>"
      ]
     },
     "execution_count": 16,
     "metadata": {},
     "output_type": "execute_result"
    }
   ],
   "source": [
    "Post.objects.create(\n",
    "    title='Technicolor Paradise: Rhum Rhapsodies & Other Exotic Delights',\n",
    "    content='There’s not much of an art angle to this one, but Technicolor Paradise is probably what I listened to more than anything else this year. '\n",
    ")"
   ]
  },
  {
   "cell_type": "code",
   "execution_count": 17,
   "metadata": {},
   "outputs": [
    {
     "data": {
      "text/plain": [
       "<QuerySet [<Post: The Year in Artful Music: Sounds for Contemplation>, <Post: Simone Forti, Al Di Là (Saltern)>, <Post: Technicolor Paradise: Rhum Rhapsodies & Other Exotic Delights>]>"
      ]
     },
     "execution_count": 17,
     "metadata": {},
     "output_type": "execute_result"
    }
   ],
   "source": [
    "Post.objects.all()"
   ]
  },
  {
   "cell_type": "code",
   "execution_count": 23,
   "metadata": {},
   "outputs": [
    {
     "name": "stdout",
     "output_type": "stream",
     "text": [
      "1 The Year in Artful Music: Sounds for Contemplation : 433 글자\n",
      "2 Simone Forti, Al Di Là (Saltern) : 780 글자\n",
      "3 Technicolor Paradise: Rhum Rhapsodies & Other Exotic Delights : 137 글자\n"
     ]
    }
   ],
   "source": [
    "for post in Post.objects.all():\n",
    "    print(post.id, post.title, ':', len(post.content), '글자')"
   ]
  },
  {
   "cell_type": "markdown",
   "metadata": {},
   "source": [
    "### ModelForm 설정"
   ]
  },
  {
   "cell_type": "code",
   "execution_count": 18,
   "metadata": {},
   "outputs": [],
   "source": [
    "class PostForm(forms.ModelForm):\n",
    "    class Meta:\n",
    "        model = Post\n",
    "        fields = '__all__'"
   ]
  },
  {
   "cell_type": "code",
   "execution_count": 19,
   "metadata": {},
   "outputs": [],
   "source": [
    "form = PostForm({'title': 'hello'})"
   ]
  },
  {
   "cell_type": "code",
   "execution_count": 20,
   "metadata": {},
   "outputs": [
    {
     "data": {
      "text/plain": [
       "False"
      ]
     },
     "execution_count": 20,
     "metadata": {},
     "output_type": "execute_result"
    }
   ],
   "source": [
    "form.is_valid()"
   ]
  },
  {
   "cell_type": "code",
   "execution_count": 21,
   "metadata": {},
   "outputs": [
    {
     "data": {
      "text/plain": [
       "{'content': ['This field is required.']}"
      ]
     },
     "execution_count": 21,
     "metadata": {},
     "output_type": "execute_result"
    }
   ],
   "source": [
    "form.errors"
   ]
  },
  {
   "cell_type": "markdown",
   "metadata": {},
   "source": [
    "### Django JSON 직렬화\n",
    "장고 JSON 직렬화는 파이썬 표준 라이브러리 json 모듈을 좀더 발전시킨 형태로 제공 : DjangoJSONEncoder\n",
    "\n",
    "DjangoJSONENcoder는 파이썬 json.JSONENcoder를 상속받아 time 타입의 직렬화를 추가로 지원\n",
    "+ datetime.datetime\n",
    "+ datetime.date\n",
    "+ datetime.time\n",
    "+ datetime.timedelta\n",
    "+ datetime.Decimal, uuid.UUID\n",
    "\n",
    "그러나 장고 테이터타입인 QuerySet과 Model 인스턴스에 대한 직렬화는 지원하지 않음. 그리고 실제 웹 애플리케이션 개발에서는 JSON 직렬화 일이 별로 없음. 이 부분을 djangorestframework에서 지원해 줌"
   ]
  },
  {
   "cell_type": "markdown",
   "metadata": {},
   "source": [
    "#### DjangoJSONENcoder 실행"
   ]
  },
  {
   "cell_type": "code",
   "execution_count": 25,
   "metadata": {},
   "outputs": [],
   "source": [
    "import json\n",
    "from django.core.serializers.json import DjangoJSONEncoder"
   ]
  },
  {
   "cell_type": "code",
   "execution_count": 26,
   "metadata": {},
   "outputs": [
    {
     "data": {
      "text/plain": [
       "<QuerySet [<Post: The Year in Artful Music: Sounds for Contemplation>, <Post: Simone Forti, Al Di Là (Saltern)>, <Post: Technicolor Paradise: Rhum Rhapsodies & Other Exotic Delights>]>"
      ]
     },
     "execution_count": 26,
     "metadata": {},
     "output_type": "execute_result"
    }
   ],
   "source": [
    "data = Post.objects.all()\n",
    "data"
   ]
  },
  {
   "cell_type": "code",
   "execution_count": 27,
   "metadata": {},
   "outputs": [
    {
     "ename": "TypeError",
     "evalue": "Object of type 'QuerySet' is not JSON serializable",
     "output_type": "error",
     "traceback": [
      "\u001b[0;31m---------------------------------------------------------------------------\u001b[0m",
      "\u001b[0;31mTypeError\u001b[0m                                 Traceback (most recent call last)",
      "\u001b[0;32m<ipython-input-27-f8422d929d3d>\u001b[0m in \u001b[0;36m<module>\u001b[0;34m()\u001b[0m\n\u001b[0;32m----> 1\u001b[0;31m \u001b[0mjson\u001b[0m\u001b[0;34m.\u001b[0m\u001b[0mdumps\u001b[0m\u001b[0;34m(\u001b[0m\u001b[0mdata\u001b[0m\u001b[0;34m,\u001b[0m \u001b[0mcls\u001b[0m\u001b[0;34m=\u001b[0m\u001b[0mDjangoJSONEncoder\u001b[0m\u001b[0;34m)\u001b[0m\u001b[0;34m\u001b[0m\u001b[0m\n\u001b[0m",
      "\u001b[0;32m~/miniconda3/lib/python3.6/json/__init__.py\u001b[0m in \u001b[0;36mdumps\u001b[0;34m(obj, skipkeys, ensure_ascii, check_circular, allow_nan, cls, indent, separators, default, sort_keys, **kw)\u001b[0m\n\u001b[1;32m    236\u001b[0m         \u001b[0mcheck_circular\u001b[0m\u001b[0;34m=\u001b[0m\u001b[0mcheck_circular\u001b[0m\u001b[0;34m,\u001b[0m \u001b[0mallow_nan\u001b[0m\u001b[0;34m=\u001b[0m\u001b[0mallow_nan\u001b[0m\u001b[0;34m,\u001b[0m \u001b[0mindent\u001b[0m\u001b[0;34m=\u001b[0m\u001b[0mindent\u001b[0m\u001b[0;34m,\u001b[0m\u001b[0;34m\u001b[0m\u001b[0m\n\u001b[1;32m    237\u001b[0m         \u001b[0mseparators\u001b[0m\u001b[0;34m=\u001b[0m\u001b[0mseparators\u001b[0m\u001b[0;34m,\u001b[0m \u001b[0mdefault\u001b[0m\u001b[0;34m=\u001b[0m\u001b[0mdefault\u001b[0m\u001b[0;34m,\u001b[0m \u001b[0msort_keys\u001b[0m\u001b[0;34m=\u001b[0m\u001b[0msort_keys\u001b[0m\u001b[0;34m,\u001b[0m\u001b[0;34m\u001b[0m\u001b[0m\n\u001b[0;32m--> 238\u001b[0;31m         **kw).encode(obj)\n\u001b[0m\u001b[1;32m    239\u001b[0m \u001b[0;34m\u001b[0m\u001b[0m\n\u001b[1;32m    240\u001b[0m \u001b[0;34m\u001b[0m\u001b[0m\n",
      "\u001b[0;32m~/miniconda3/lib/python3.6/json/encoder.py\u001b[0m in \u001b[0;36mencode\u001b[0;34m(self, o)\u001b[0m\n\u001b[1;32m    197\u001b[0m         \u001b[0;31m# exceptions aren't as detailed.  The list call should be roughly\u001b[0m\u001b[0;34m\u001b[0m\u001b[0;34m\u001b[0m\u001b[0m\n\u001b[1;32m    198\u001b[0m         \u001b[0;31m# equivalent to the PySequence_Fast that ''.join() would do.\u001b[0m\u001b[0;34m\u001b[0m\u001b[0;34m\u001b[0m\u001b[0m\n\u001b[0;32m--> 199\u001b[0;31m         \u001b[0mchunks\u001b[0m \u001b[0;34m=\u001b[0m \u001b[0mself\u001b[0m\u001b[0;34m.\u001b[0m\u001b[0miterencode\u001b[0m\u001b[0;34m(\u001b[0m\u001b[0mo\u001b[0m\u001b[0;34m,\u001b[0m \u001b[0m_one_shot\u001b[0m\u001b[0;34m=\u001b[0m\u001b[0;32mTrue\u001b[0m\u001b[0;34m)\u001b[0m\u001b[0;34m\u001b[0m\u001b[0m\n\u001b[0m\u001b[1;32m    200\u001b[0m         \u001b[0;32mif\u001b[0m \u001b[0;32mnot\u001b[0m \u001b[0misinstance\u001b[0m\u001b[0;34m(\u001b[0m\u001b[0mchunks\u001b[0m\u001b[0;34m,\u001b[0m \u001b[0;34m(\u001b[0m\u001b[0mlist\u001b[0m\u001b[0;34m,\u001b[0m \u001b[0mtuple\u001b[0m\u001b[0;34m)\u001b[0m\u001b[0;34m)\u001b[0m\u001b[0;34m:\u001b[0m\u001b[0;34m\u001b[0m\u001b[0m\n\u001b[1;32m    201\u001b[0m             \u001b[0mchunks\u001b[0m \u001b[0;34m=\u001b[0m \u001b[0mlist\u001b[0m\u001b[0;34m(\u001b[0m\u001b[0mchunks\u001b[0m\u001b[0;34m)\u001b[0m\u001b[0;34m\u001b[0m\u001b[0m\n",
      "\u001b[0;32m~/miniconda3/lib/python3.6/json/encoder.py\u001b[0m in \u001b[0;36miterencode\u001b[0;34m(self, o, _one_shot)\u001b[0m\n\u001b[1;32m    255\u001b[0m                 \u001b[0mself\u001b[0m\u001b[0;34m.\u001b[0m\u001b[0mkey_separator\u001b[0m\u001b[0;34m,\u001b[0m \u001b[0mself\u001b[0m\u001b[0;34m.\u001b[0m\u001b[0mitem_separator\u001b[0m\u001b[0;34m,\u001b[0m \u001b[0mself\u001b[0m\u001b[0;34m.\u001b[0m\u001b[0msort_keys\u001b[0m\u001b[0;34m,\u001b[0m\u001b[0;34m\u001b[0m\u001b[0m\n\u001b[1;32m    256\u001b[0m                 self.skipkeys, _one_shot)\n\u001b[0;32m--> 257\u001b[0;31m         \u001b[0;32mreturn\u001b[0m \u001b[0m_iterencode\u001b[0m\u001b[0;34m(\u001b[0m\u001b[0mo\u001b[0m\u001b[0;34m,\u001b[0m \u001b[0;36m0\u001b[0m\u001b[0;34m)\u001b[0m\u001b[0;34m\u001b[0m\u001b[0m\n\u001b[0m\u001b[1;32m    258\u001b[0m \u001b[0;34m\u001b[0m\u001b[0m\n\u001b[1;32m    259\u001b[0m def _make_iterencode(markers, _default, _encoder, _indent, _floatstr,\n",
      "\u001b[0;32m~/miniconda3/envs/django_v2/lib/python3.6/site-packages/django/core/serializers/json.py\u001b[0m in \u001b[0;36mdefault\u001b[0;34m(self, o)\u001b[0m\n\u001b[1;32m    102\u001b[0m             \u001b[0;32mreturn\u001b[0m \u001b[0mstr\u001b[0m\u001b[0;34m(\u001b[0m\u001b[0mo\u001b[0m\u001b[0;34m)\u001b[0m\u001b[0;34m\u001b[0m\u001b[0m\n\u001b[1;32m    103\u001b[0m         \u001b[0;32melse\u001b[0m\u001b[0;34m:\u001b[0m\u001b[0;34m\u001b[0m\u001b[0m\n\u001b[0;32m--> 104\u001b[0;31m             \u001b[0;32mreturn\u001b[0m \u001b[0msuper\u001b[0m\u001b[0;34m(\u001b[0m\u001b[0;34m)\u001b[0m\u001b[0;34m.\u001b[0m\u001b[0mdefault\u001b[0m\u001b[0;34m(\u001b[0m\u001b[0mo\u001b[0m\u001b[0;34m)\u001b[0m\u001b[0;34m\u001b[0m\u001b[0m\n\u001b[0m",
      "\u001b[0;32m~/miniconda3/lib/python3.6/json/encoder.py\u001b[0m in \u001b[0;36mdefault\u001b[0;34m(self, o)\u001b[0m\n\u001b[1;32m    178\u001b[0m         \"\"\"\n\u001b[1;32m    179\u001b[0m         raise TypeError(\"Object of type '%s' is not JSON serializable\" %\n\u001b[0;32m--> 180\u001b[0;31m                         o.__class__.__name__)\n\u001b[0m\u001b[1;32m    181\u001b[0m \u001b[0;34m\u001b[0m\u001b[0m\n\u001b[1;32m    182\u001b[0m     \u001b[0;32mdef\u001b[0m \u001b[0mencode\u001b[0m\u001b[0;34m(\u001b[0m\u001b[0mself\u001b[0m\u001b[0;34m,\u001b[0m \u001b[0mo\u001b[0m\u001b[0;34m)\u001b[0m\u001b[0;34m:\u001b[0m\u001b[0;34m\u001b[0m\u001b[0m\n",
      "\u001b[0;31mTypeError\u001b[0m: Object of type 'QuerySet' is not JSON serializable"
     ]
    }
   ],
   "source": [
    "# 따라서.... 장고 QuerySet을 넘기면 예외 발생\n",
    "json.dumps(data, cls=DjangoJSONEncoder)"
   ]
  },
  {
   "cell_type": "markdown",
   "metadata": {},
   "source": [
    "###### QuerySet을 파이썬 표준데이터 타입의 값으로 한땀 한땀 직접 변환도 할 수는 있음  ==> json 모듈이 하는 일을 직접 하는 것임"
   ]
  },
  {
   "cell_type": "code",
   "execution_count": 31,
   "metadata": {},
   "outputs": [
    {
     "data": {
      "text/plain": [
       "'[{\"id\": 1, \"title\": \"The Year in Artful Music: Sounds for Contemplation\", \"content\": \"Music is art in all cases, and any energy devoted to segregation is misspent. But then, at the same time, there are manifestations of music that make the unity more clear—easier to acknowledge, accept, and affirm. Yet even then, subjectivity enters in, such that the notion of distinctions starts to reveal itself as farce. And then we arrive once again at the essential truth that we started with: music is art—and on and on and on.\"}, {\"id\": 2, \"title\": \"Simone Forti, Al Di Là (Saltern)\", \"content\": \"Drawn from a show titled “Sounding” at the Box in Los Angeles, this compilation by the dancer/choreographer/etc. Simone Forti features aural artworks dating from the 1960s to the ’80s. One is a sung song accompanied by a shaking can of nails, as performed in Yoko Ono’s loft in 1961; another is the result of “a slide whistle equipped with a stylus.” The four-part track “Bottom” includes vocals by La Monte Young and Marian Zazeela, and then there’s “Dal Di Là,” about which Forti writes in the liner notes: “I made this song towards the end of a period of performing stoned on weed. It roughly translates: I’m awaiting a song from afar, from afar, a song of goodbye from afar. For now I’ve seen the game I was playing, slowly leaving the earth and drifting far among the stars.”\"}, {\"id\": 3, \"title\": \"Technicolor Paradise: Rhum Rhapsodies & Other Exotic Delights\", \"content\": \"There’s not much of an art angle to this one, but Technicolor Paradise is probably what I listened to more than anything else this year. \"}]'"
      ]
     },
     "execution_count": 31,
     "metadata": {},
     "output_type": "execute_result"
    }
   ],
   "source": [
    "data = [\n",
    "    {'id': post.id, 'title': post.title, 'content': post.content}\n",
    "    for post in Post.objects.all()\n",
    "]\n",
    "json.dumps(data, cls=DjangoJSONEncoder, ensure_ascii=False)  \n",
    "# ensure_ascii 를 생략하면 코드값만 출력됨\n",
    "# cls=DjangoJSONEncoder 없어도 작동"
   ]
  },
  {
   "cell_type": "code",
   "execution_count": 32,
   "metadata": {},
   "outputs": [
    {
     "data": {
      "text/plain": [
       "'[\"\\\\uc548\\\\ub155\", \"\\\\ud30c\\\\uc774\\\\uc36c\"]'"
      ]
     },
     "execution_count": 32,
     "metadata": {},
     "output_type": "execute_result"
    }
   ],
   "source": [
    "mydata = ['안녕', '파이썬']\n",
    "json.dumps(mydata)"
   ]
  },
  {
   "cell_type": "code",
   "execution_count": 33,
   "metadata": {},
   "outputs": [
    {
     "data": {
      "text/plain": [
       "'[\"안녕\", \"파이썬\"]'"
      ]
     },
     "execution_count": 33,
     "metadata": {},
     "output_type": "execute_result"
    }
   ],
   "source": [
    "json.dumps(mydata, ensure_ascii=False)"
   ]
  },
  {
   "cell_type": "markdown",
   "metadata": {},
   "source": [
    "##### 위의 두가지 형태 모두 지원 가능하나 가독성을 위해 ensure_ascii 지정"
   ]
  },
  {
   "cell_type": "markdown",
   "metadata": {},
   "source": [
    "## 커스텀 JSON ENcoder 정의\n",
    "DjangoJSONENcoder 확장하여 Query타입(tuple타입으로 변환), Post타입(dict타입으로 변환)"
   ]
  },
  {
   "cell_type": "code",
   "execution_count": 36,
   "metadata": {},
   "outputs": [
    {
     "data": {
      "text/plain": [
       "'[{\"id\": 1, \"title\": \"The Year in Artful Music: Sounds for Contemplation\", \"content\": \"Music is art in all cases, and any energy devoted to segregation is misspent. But then, at the same time, there are manifestations of music that make the unity more clear—easier to acknowledge, accept, and affirm. Yet even then, subjectivity enters in, such that the notion of distinctions starts to reveal itself as farce. And then we arrive once again at the essential truth that we started with: music is art—and on and on and on.\"}, {\"id\": 2, \"title\": \"Simone Forti, Al Di Là (Saltern)\", \"content\": \"Drawn from a show titled “Sounding” at the Box in Los Angeles, this compilation by the dancer/choreographer/etc. Simone Forti features aural artworks dating from the 1960s to the ’80s. One is a sung song accompanied by a shaking can of nails, as performed in Yoko Ono’s loft in 1961; another is the result of “a slide whistle equipped with a stylus.” The four-part track “Bottom” includes vocals by La Monte Young and Marian Zazeela, and then there’s “Dal Di Là,” about which Forti writes in the liner notes: “I made this song towards the end of a period of performing stoned on weed. It roughly translates: I’m awaiting a song from afar, from afar, a song of goodbye from afar. For now I’ve seen the game I was playing, slowly leaving the earth and drifting far among the stars.”\"}, {\"id\": 3, \"title\": \"Technicolor Paradise: Rhum Rhapsodies & Other Exotic Delights\", \"content\": \"There’s not much of an art angle to this one, but Technicolor Paradise is probably what I listened to more than anything else this year. \"}]'"
      ]
     },
     "execution_count": 36,
     "metadata": {},
     "output_type": "execute_result"
    }
   ],
   "source": [
    "from django.core.serializers.json import DjangoJSONEncoder\n",
    "from django.db.models.query import QuerySet\n",
    "\n",
    "\n",
    "class MYJSONENcoder(DjangoJSONEncoder):\n",
    "    def default(self, obj):\n",
    "        if isinstance(obj, QuerySet):\n",
    "            return tuple(obj)\n",
    "        elif isinstance(obj, Post):\n",
    "            return {'id': obj.id, 'title': obj.title, 'content': obj.content}\n",
    "        return super().default(obj)\n",
    "    \n",
    "data = Post.objects.all()\n",
    "\n",
    "json.dumps(data, cls=MYJSONENcoder, ensure_ascii=False)"
   ]
  },
  {
   "cell_type": "markdown",
   "metadata": {},
   "source": [
    "###### django-rest-framework에서도 위와 마찬가지로 커스텀 JSON Encoder를 만드는 방식으로 JSON 인코딩을 처리함"
   ]
  }
 ],
 "metadata": {
  "kernelspec": {
   "display_name": "Python 3",
   "language": "python",
   "name": "python3"
  },
  "language_info": {
   "codemirror_mode": {
    "name": "ipython",
    "version": 3
   },
   "file_extension": ".py",
   "mimetype": "text/x-python",
   "name": "python",
   "nbconvert_exporter": "python",
   "pygments_lexer": "ipython3",
   "version": "3.6.5"
  }
 },
 "nbformat": 4,
 "nbformat_minor": 2
}
