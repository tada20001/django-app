{
 "cells": [
  {
   "cell_type": "markdown",
   "metadata": {},
   "source": [
    "장고에서는 뷰를 통한 HTTP 요청을 처리함.\n",
    "장고의 기본함수기반뷰/클래스기반뷰를 활용해도 API를 충분히 만들 수 있음.\n",
    "그러나 rest_framework의 APIView/ViewSet을 활용하면 API뷰를 보다 적은 양의 코드로 작성할 수 있음."
   ]
  },
  {
   "cell_type": "markdown",
   "metadata": {},
   "source": [
    "## APIView 클래스와 api_view 장식자\n",
    "APIView클래스와 api_view 장식자는 뷰에 여러 기본 설정을 부여합니다. 관련코드\n",
    "\n",
    "#### 직렬화 클래스 지정 : renderer_classes 속성 (list)\n",
    "디폴트\n",
    "+ rest_framework.renderers.JSONRenderer : JSON 직렬화\n",
    "+ rest_framework.renderers.TemplateHTMLRenderer : HTML 페이지 직렬화\n",
    "\n",
    "#### 비직렬화 클래스 지정 : parser_classes 속성 (list)\n",
    "디폴트\n",
    "+ rest_framework.parsers.JSONParser : JSON 포맷 처리\n",
    "+ rest_framework.parsers.FormParser\n",
    "+ rest_framework.parsers.MultiPartParser\n",
    "\n",
    "#### 인증 클래스 지정 : authentication_classes 속성 (list) ==> 셋팅 중요\n",
    "디폴트\n",
    "+ rest_framework.authentication.SessionAuthentication : 세션에 기반한 인증\n",
    "+ rest_framework.authentication.BasicAuthentication : HTTP Basic 인증\n",
    "\n",
    "#### 사용량 제한 클래스 지정 : throttle_classes 속성 (list)  ==> 셋팅 중요\n",
    "디폴트 : 빈 튜플\n",
    "\n",
    "#### 권한 클래스 지정 : permission_classes 속성 (list)  ==> 셋팅 중요\n",
    "디폴트\n",
    "+ rest_framework.permissions.AllowAny : 누구라도 접근 허용\n",
    "\n",
    "##### 요청에 따라 적절한 직렬화/비직렬화 클래스를 선택 : content_negotiation_class 속성 (문자열)\n",
    "+ 같은 URL로의 요청이지만, JSON응답을 요구하는 것이냐 / HTML응답을 요구하는 것인지 판단\n",
    "+ 디폴트 : rest_framework.negotiation.DefaultContentNegotiation\n",
    "\n",
    "##### 요청 내역에서 API 버전 정보를 탐지할 클래스 지정 : versioning_class 속성\n",
    "+ 디폴트 : None : API 버전 정보를 탐지하지 않겠다.\n",
    "+ 요청 URL에서, GET인자에서, HEADER에서 버전정보를 탐지하여, 해당 버전의 API뷰를 호출토록 합니다."
   ]
  },
  {
   "cell_type": "markdown",
   "metadata": {},
   "source": [
    "### APIView tutorial http://www.django-rest-framework.org/tutorial/3-class-based-views/"
   ]
  },
  {
   "cell_type": "markdown",
   "metadata": {},
   "source": [
    "APIView는 django-rest-framework의 Class Based View임.\n",
    "1. 하나의 Class Based View이기 때문에 한 URL에서 처리\n",
    " \n",
    " /posts/에 대한 CBV일 경우\n",
    "    + get 요청 : 포스팅 목록 요청\n",
    "    + post 요청 : 새 포스팅 등록 요청"
   ]
  },
  {
   "cell_type": "code",
   "execution_count": null,
   "metadata": {},
   "outputs": [],
   "source": []
  }
 ],
 "metadata": {
  "kernelspec": {
   "display_name": "Python 3",
   "language": "python",
   "name": "python3"
  },
  "language_info": {
   "codemirror_mode": {
    "name": "ipython",
    "version": 3
   },
   "file_extension": ".py",
   "mimetype": "text/x-python",
   "name": "python",
   "nbconvert_exporter": "python",
   "pygments_lexer": "ipython3",
   "version": "3.6.5"
  }
 },
 "nbformat": 4,
 "nbformat_minor": 2
}
