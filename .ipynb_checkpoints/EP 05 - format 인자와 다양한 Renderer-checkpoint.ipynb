{
 "cells": [
  {
   "cell_type": "markdown",
   "metadata": {},
   "source": [
    "rest_framework.response.Response에서는 2가지 타입의 응답을 할 수 있습니다.\n",
    "\n",
    "+ api : API Endpoint에 브라우저를 통해 접근할 때, 웹UI로 API를 조회할 수 있습니다.\n",
    "+ json : 보통의 API 접근 시\n",
    "\n",
    "API 요청에서는 format=json으로 디폴트 처리되며, 웹브라우저를 통해 요청될 때에는 format=api로 디폴트 처리됩니다.\n",
    "\n",
    "APIView에서는 출력포맷을 결정하는 format인자를 다음 3가지 형태로 받을 수 있습니다.\n",
    "\n",
    "+ Accept 헤더\n",
    "+ GET인자 format\n",
    "+ URL끝에 \".포맷\"\n",
    "\n",
    "지정 예) JSON 응답 요청\n",
    "\n",
    "    http :8000/ep04/ Accept:application/json\n",
    "    http :8000/ep04/?format=json\n",
    "    http :8000/ep04.json\n",
    "    \n",
    "지정 예) HTML 응답 요청\n",
    "\n",
    "    http :8000/ep04/ Accept:text/html\n",
    "    http :8000/ep04/?format=api\n",
    "    http :8000/ep04/.api\n",
    "\n",
    "헤더와 GET인자를 활용하는 방법은 별도의 URL Conf 설정이 필요없습니다. 하지만 :8000/.json의 경우에는 \"인자 Capture\"가 필요하므로 별도의 URL Conf 설정이 필요하며 뷰에서도 format 이름의 인자를 받을 수 있어야 합니다.\n",
    "\n",
    "URLConf에서 format인자에 대한 패턴을 직접 정의할 필요는 없습니다. 기존 URL Conf설정을 활용하여 format 인자 지원을 rest_framework에서 도와줍니다. 만약 다음 2가지 URL이 있다면\n",
    "\n",
    "+ /posts/\n",
    "+ /posts/1/\n",
    "\n",
    "다음 URL도 사용토록 도와줍니다.\n",
    "\n",
    "+ /posts.json : 포스팅 목록 (JSON 포맷)\n",
    "+ /posts/1.json : 1번 포스팅 (JSON 포맷)\n",
    "+ /posts.api : 포스팅 목록 (HTML 포맷)\n",
    "+ /posts/1.api : 1번 포스팅 (HTML 포맷)\n",
    "\n",
    "\n"
   ]
  },
  {
   "cell_type": "markdown",
   "metadata": {},
   "source": [
    "### 기본 지원되는 Renderer 몇 가지\n",
    "###### JSONRenderer (디폴트 지정) : json.dumps를 통한 JSON 직렬화\n",
    "+ format: json\n",
    "######  BrowsableAPIRenderer (디폴트 지정) : self-document HTML 렌더링\n",
    "\n",
    "+ format: api\n",
    "###### TemplateHTMLRenderer : 지정 템플릿을 통한 렌더링\n",
    "\n",
    "+ format: html\n",
    "+ template_name: 지정 필요\n",
    "+ 템플릿을 찾는 순서\n",
    "    + Response에서 template_name 찾기 : return Response({}, template_name='mytempalte.html')\n",
    "    + Renderer에서 template_name 찾기\n",
    "    + 뷰 클래스에서 get_template_names 함수 찾기\n",
    "    + 뷰 클래스에서 template_name 속성 찾기\n"
   ]
  },
  {
   "cell_type": "markdown",
   "metadata": {},
   "source": [
    "### API 활용 HTML 페이지 만들기\n",
    "\n",
    "참고: http://www.django-rest-framework.org/topics/html-and-forms/\n",
    "\n",
    "Django Form을 사용하지 않고, DRF를 통해 HTML페이지에서; 폼처리를 할 수는 있습니다. 하지만 이 부분은 DRF를 쓰기보다 Django Form을 사용하는 것이 보다 효율적임"
   ]
  },
  {
   "cell_type": "code",
   "execution_count": null,
   "metadata": {},
   "outputs": [],
   "source": []
  }
 ],
 "metadata": {
  "kernelspec": {
   "display_name": "Django Shell-Plus",
   "language": "python",
   "name": "django_extensions"
  },
  "language_info": {
   "codemirror_mode": {
    "name": "ipython",
    "version": 3
   },
   "file_extension": ".py",
   "mimetype": "text/x-python",
   "name": "python",
   "nbconvert_exporter": "python",
   "pygments_lexer": "ipython3",
   "version": "3.6.5"
  }
 },
 "nbformat": 4,
 "nbformat_minor": 2
}
