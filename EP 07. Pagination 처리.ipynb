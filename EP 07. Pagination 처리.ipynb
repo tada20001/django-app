{
 "cells": [
  {
   "cell_type": "markdown",
   "metadata": {},
   "source": [
    "###### 레코드 갯수가 많은 경우 목록을 하나의 API 요청만으로 받는 것은 피해야할 것임. 이럴 때 여러 페이지에 나눠서 요청을 처리할 수 있겠는데 이에 대해 rest_framework에서는 여러 페이징 기법을 지원해주고 있음.\n",
    "\n",
    "+ PageNumberPagination : page인자를 통해 페이징 처리\n",
    "    + http://api.example.org/accounts/?page=4\n",
    "    + http://api.example.org/accounts/?page=4&page_size=100\n",
    "+ LimitOffsetPagination : limit인자를 통한 페이징 처리\n",
    "    + http://api.example.org/accounts/?limit=100\n",
    "    + http://api.example.org/accounts/?offset=400&limit=100\n",
    "\n",
    "\n",
    "###### rest_framework/generics.py 내 GenericAPIView에는 이미 pagination_class = PageNumberPagination 설정이었음. 하지만, 3.7.0버전부터는 디폴트 None으로 지정으로 변경되었습니다. 현재 (2017년 11월) 최신 버전은 3.7.3버전임.\n",
    "\n",
    "    from rest_framework.pagination import PageNumberPagination\n",
    "\n",
    "    class GenericAPIView(ApiView):\n",
    "        pagination_class = PageNumberPagination  # 디폴트 지정\n",
    "\n",
    "###### 하지만 디폴트 설정으로 PAGE_SIZE인자가 None으로 설정되어있기 때문에, 리스트 처리에서 페이징처리가 되지 않음. 다음과 같이 전역으로 PAGE_SIZE 설정이 필요함\n",
    "\n",
    "\n",
    "\n",
    "/// 프로젝트/settings.py\n",
    "\n",
    "REST_FRAMEWORK = {\n",
    "    'PAGE_SIZE': 20,  # 디폴트 값은 None으로서 페이징 비활성화\n",
    "}"
   ]
  },
  {
   "cell_type": "markdown",
   "metadata": {},
   "source": [
    "###### 각 API별로 PAGE_SIZE설정을 다르게 할 수도 있지만, 이는 Pagination의 역할이기에 Pagination을 커스텀해야 함\n",
    "\n",
    "    from rest_framework.pagination import PageNumberPagination\n",
    "\n",
    "    class PostPageNumberPagination(PageNumberPagination):\n",
    "        page_size = 20\n",
    "\n",
    "    class PostViewSet(..):\n",
    "        pagination_class = PostPageNumberPagination"
   ]
  },
  {
   "cell_type": "code",
   "execution_count": null,
   "metadata": {},
   "outputs": [],
   "source": []
  }
 ],
 "metadata": {
  "kernelspec": {
   "display_name": "Django Shell-Plus",
   "language": "python",
   "name": "django_extensions"
  },
  "language_info": {
   "codemirror_mode": {
    "name": "ipython",
    "version": 3
   },
   "file_extension": ".py",
   "mimetype": "text/x-python",
   "name": "python",
   "nbconvert_exporter": "python",
   "pygments_lexer": "ipython3",
   "version": "3.6.5"
  }
 },
 "nbformat": 4,
 "nbformat_minor": 2
}
