{
 "cells": [
  {
   "cell_type": "markdown",
   "metadata": {},
   "source": [
    "## 용어정리\n",
    "\n",
    "+ Rate : 지정 기간 내의 최대 호출 횟수      ===>    ex) 10/d, 10/h, 10/m\n",
    "+ Scope : 각 Rate에 대한 별칭 (alias)\n",
    "+ Throttle : 특정 조건 하에 최대 호출 횟수를 결정하는 클래스\n",
    "\n",
    "\n",
    "#### 기본 제공 Throttle\n",
    "\n",
    "+ AnonRateThrottle\n",
    "    + 인증요청에는 제한을 두지 않고, 비인증 요청에는 IP 별로 횟수 제한\n",
    "    + Throttle 클래스별로 scope을 1개만 지정할 수 있습니다.\n",
    "    + 디폴트 scope: 'anon'\n",
    "+ UserRateThrottle\n",
    "    + 인증요청에는 유저 별로 횟수를 제한하고, 비인증 요청에는 IP 별로 횟수 제한\n",
    "    + Throttle 클래스별로 scope을 1개만 지정할 수 있습니다.\n",
    "    + 디폴트 scope: 'user'\n",
    "+ ScopedRateThrottle\n",
    "    + 인증요청에는 유저 별로 횟수를 제한하고, 비인증 요청에는 IP 별로 횟수 제한\n",
    "    + 여러 APIView내 throttle_scope값을 읽어들여, APIView별로 다른 Scope을 적용해줍니다.\n",
    "    \n",
    "#### 디폴트 settings(어떠한 호출제한이 걸려 있지 않은 상태)\n",
    "\n",
    "    REST_FRAMEWORK = {\n",
    "        'DEFAULT_THROTTLE_CLASSES': [],\n",
    "        'DEFAULT_THROTTLE_RATES': {\n",
    "            'anon': None,\n",
    "            'user': None,\n",
    "        },\n",
    "    }"
   ]
  },
  {
   "cell_type": "markdown",
   "metadata": {},
   "source": [
    "## APIView에 커스텀 Throttle\n",
    "\n",
    "/// 프로젝트/settings.py\n",
    "\n",
    "    REST_FRAMEWORK = {\n",
    "        'DEFAULT_THROTTLE_CLASSES': [\n",
    "            'rest_framework.throttling.UserRateThrottle',\n",
    "        ],\n",
    "        'DEFAULT_THROTTLE_RATES': {\n",
    "            'user': '10/day',\n",
    "        },\n",
    "    }\n",
    "\n",
    "이제, 모든 APIView에 걸쳐, 최대호출 횟수제한이 걸립니다.\n",
    "\n"
   ]
  },
  {
   "cell_type": "markdown",
   "metadata": {},
   "source": [
    "## APIView별 지정\n",
    "\n",
    "    from rest_framework.throttling import UserRateThrottle\n",
    "\n",
    "    class PostViewSet(ViewSet):\n",
    "        throttle_classes = UserRateThrottle"
   ]
  },
  {
   "cell_type": "markdown",
   "metadata": {},
   "source": [
    "## API 요청 시에 제한을 넘어선다면?\n",
    "\n",
    "429 Too Many Requests 응답을 받습니다.\n",
    "\n",
    "쉘> http :8000\n",
    "\n",
    "HTTP/1.0 429 Too Many Requests\n",
    "\n",
    "{\n",
    "    \"detail\": \"Request wat throttled. Expected available in 86326 seconds.\"\n",
    "}\n",
    "\n",
    "예외 메세지에 API 활용이 가능한 시점을 알려줍니다. 이는 Throttle의 wait멤버함수를 통해 계산합니다.\n",
    "\n"
   ]
  },
  {
   "cell_type": "code",
   "execution_count": null,
   "metadata": {},
   "outputs": [],
   "source": []
  }
 ],
 "metadata": {
  "kernelspec": {
   "display_name": "Python 3",
   "language": "python",
   "name": "python3"
  },
  "language_info": {
   "codemirror_mode": {
    "name": "ipython",
    "version": 3
   },
   "file_extension": ".py",
   "mimetype": "text/x-python",
   "name": "python",
   "nbconvert_exporter": "python",
   "pygments_lexer": "ipython3",
   "version": "3.6.5"
  }
 },
 "nbformat": 4,
 "nbformat_minor": 2
}
