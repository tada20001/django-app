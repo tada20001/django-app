{
 "cells": [
  {
   "cell_type": "markdown",
   "metadata": {},
   "source": [
    "### Django 프로젝트 기본 셋업 : 최소한의 settings 설정\n",
    "직렬화 연습을 위한 장고 프로젝트 세팅해서 모델 돌려보기"
   ]
  },
  {
   "cell_type": "code",
   "execution_count": 1,
   "metadata": {},
   "outputs": [],
   "source": [
    "import django\n",
    "import os\n",
    "\n",
    "SECRET_KEY = 'tada'  # 임의 문자열 가능\n",
    "DATABASES = {\n",
    "    'default': {\n",
    "        'ENGINE': 'django.db.backends.sqlite3',\n",
    "        'NAME': ':memory:',\n",
    "    }\n",
    "}\n",
    "\n",
    "ROOT_URLCONF = '__main__'\n",
    "urls = []\n",
    "os.environ['DJANGO_SETTINGS_MODULE'] = '__main__'\n",
    "\n",
    "django.setup()"
   ]
  },
  {
   "cell_type": "markdown",
   "metadata": {},
   "source": [
    "### Form 클래스를 정의하고 사용하기"
   ]
  },
  {
   "cell_type": "code",
   "execution_count": 2,
   "metadata": {},
   "outputs": [],
   "source": [
    "from django import forms\n",
    "\n",
    "def odd_validator(value):\n",
    "    if value % 2 == 0:\n",
    "        raise forms.ValidationError(\"내가 짝수라니!!\")\n",
    "\n",
    "class QuizForm(forms.Form):\n",
    "    answer = forms.IntegerField(validators=[odd_validator])"
   ]
  },
  {
   "cell_type": "code",
   "execution_count": 3,
   "metadata": {},
   "outputs": [],
   "source": [
    "data = {'answer': 10}"
   ]
  },
  {
   "cell_type": "code",
   "execution_count": 4,
   "metadata": {},
   "outputs": [],
   "source": [
    "form = QuizForm(data)"
   ]
  },
  {
   "cell_type": "code",
   "execution_count": 6,
   "metadata": {},
   "outputs": [
    {
     "data": {
      "text/plain": [
       "False"
      ]
     },
     "execution_count": 6,
     "metadata": {},
     "output_type": "execute_result"
    }
   ],
   "source": [
    "form.is_valid()  # 짝수이기 때문에 유효성 검사 실패"
   ]
  },
  {
   "cell_type": "code",
   "execution_count": 7,
   "metadata": {},
   "outputs": [
    {
     "data": {
      "text/plain": [
       "{'answer': ['내가 짝수라니!!']}"
      ]
     },
     "execution_count": 7,
     "metadata": {},
     "output_type": "execute_result"
    }
   ],
   "source": [
    "form.errors"
   ]
  },
  {
   "cell_type": "markdown",
   "metadata": {},
   "source": [
    "### Model 클래스 정의하고 사용하기"
   ]
  },
  {
   "cell_type": "code",
   "execution_count": 9,
   "metadata": {},
   "outputs": [],
   "source": [
    "from django.db import models\n",
    "\n",
    "class Post(models.Model):\n",
    "    title = models.CharField(max_length=100)\n",
    "    content = models.TextField()\n",
    "    created_at = models.DateTimeField(auto_now_add=True)\n",
    "    updated_at = models.DateTimeField(auto_now=True)\n",
    "    \n",
    "    class Meta:\n",
    "        app_label = 'api'  # 앱이 따로 없으므로 app label을 필히 지정\n",
    "        \n",
    "    def __str__(self):\n",
    "        return self.title"
   ]
  },
  {
   "cell_type": "markdown",
   "metadata": {},
   "source": [
    "#### migration 여건이 안되기 때문에 모델 클래스 내역 그대로 raw SQL로 DB 테이블 생성"
   ]
  },
  {
   "cell_type": "code",
   "execution_count": 10,
   "metadata": {},
   "outputs": [],
   "source": [
    "from django.db import connection\n",
    "\n",
    "table_name = Post._meta.db_table"
   ]
  },
  {
   "cell_type": "code",
   "execution_count": 12,
   "metadata": {},
   "outputs": [],
   "source": [
    "with connection.cursor() as cursor:\n",
    "    cursor.execute('''\n",
    "    CREATE TABLE \"{}\"\n",
    "        ('id' integer NOT NULL PRIMARY KEY AUTOINCREMENT,\n",
    "        'title' varchar(100) NOT NULL,\n",
    "        \"content\" text NOT NULL,\n",
    "        \"created_at\" datetime NOT NULL,\n",
    "        \"updated_at\" datetime NOT NULL);\n",
    "    '''.format(table_name))"
   ]
  },
  {
   "cell_type": "code",
   "execution_count": 13,
   "metadata": {},
   "outputs": [
    {
     "name": "stdout",
     "output_type": "stream",
     "text": [
      "('api_post',)\n",
      "('sqlite_sequence',)\n"
     ]
    }
   ],
   "source": [
    "# table 확인 : 앱이름_모델명, \n",
    "with connection.cursor() as cursor:\n",
    "    cursor.execute(\"select name from sqlite_master where type='table';\")\n",
    "    for row in cursor.fetchall():\n",
    "        print(row)"
   ]
  },
  {
   "cell_type": "markdown",
   "metadata": {},
   "source": [
    "### Post 모델을 통한 DB에 데이터 추가"
   ]
  },
  {
   "cell_type": "code",
   "execution_count": 14,
   "metadata": {},
   "outputs": [
    {
     "data": {
      "text/plain": [
       "<Post: The Year in Artful Music: Sounds for Contemplation>"
      ]
     },
     "execution_count": 14,
     "metadata": {},
     "output_type": "execute_result"
    }
   ],
   "source": [
    "Post.objects.create(\n",
    "    title='The Year in Artful Music: Sounds for Contemplation',\n",
    "    content='Music is art in all cases, and any energy devoted to segregation is misspent. But then, at the same time, there are manifestations of music that make the unity more clear—easier to acknowledge, accept, and affirm. Yet even then, subjectivity enters in, such that the notion of distinctions starts to reveal itself as farce. And then we arrive once again at the essential truth that we started with: music is art—and on and on and on.'\n",
    ")"
   ]
  },
  {
   "cell_type": "code",
   "execution_count": 15,
   "metadata": {},
   "outputs": [
    {
     "data": {
      "text/plain": [
       "<Post: Simone Forti, Al Di Là (Saltern)>"
      ]
     },
     "execution_count": 15,
     "metadata": {},
     "output_type": "execute_result"
    }
   ],
   "source": [
    "Post.objects.create(\n",
    "    title='Simone Forti, Al Di Là (Saltern)',\n",
    "    content='Drawn from a show titled “Sounding” at the Box in Los Angeles, this compilation by the dancer/choreographer/etc. Simone Forti features aural artworks dating from the 1960s to the ’80s. One is a sung song accompanied by a shaking can of nails, as performed in Yoko Ono’s loft in 1961; another is the result of “a slide whistle equipped with a stylus.” The four-part track “Bottom” includes vocals by La Monte Young and Marian Zazeela, and then there’s “Dal Di Là,” about which Forti writes in the liner notes: “I made this song towards the end of a period of performing stoned on weed. It roughly translates: I’m awaiting a song from afar, from afar, a song of goodbye from afar. For now I’ve seen the game I was playing, slowly leaving the earth and drifting far among the stars.”'\n",
    ")"
   ]
  },
  {
   "cell_type": "code",
   "execution_count": 16,
   "metadata": {},
   "outputs": [
    {
     "data": {
      "text/plain": [
       "<Post: Technicolor Paradise: Rhum Rhapsodies & Other Exotic Delights>"
      ]
     },
     "execution_count": 16,
     "metadata": {},
     "output_type": "execute_result"
    }
   ],
   "source": [
    "Post.objects.create(\n",
    "    title='Technicolor Paradise: Rhum Rhapsodies & Other Exotic Delights',\n",
    "    content='There’s not much of an art angle to this one, but Technicolor Paradise is probably what I listened to more than anything else this year. '\n",
    ")"
   ]
  },
  {
   "cell_type": "code",
   "execution_count": 17,
   "metadata": {},
   "outputs": [
    {
     "data": {
      "text/plain": [
       "<QuerySet [<Post: The Year in Artful Music: Sounds for Contemplation>, <Post: Simone Forti, Al Di Là (Saltern)>, <Post: Technicolor Paradise: Rhum Rhapsodies & Other Exotic Delights>]>"
      ]
     },
     "execution_count": 17,
     "metadata": {},
     "output_type": "execute_result"
    }
   ],
   "source": [
    "Post.objects.all()"
   ]
  },
  {
   "cell_type": "code",
   "execution_count": 23,
   "metadata": {},
   "outputs": [
    {
     "name": "stdout",
     "output_type": "stream",
     "text": [
      "1 The Year in Artful Music: Sounds for Contemplation : 433 글자\n",
      "2 Simone Forti, Al Di Là (Saltern) : 780 글자\n",
      "3 Technicolor Paradise: Rhum Rhapsodies & Other Exotic Delights : 137 글자\n"
     ]
    }
   ],
   "source": [
    "for post in Post.objects.all():\n",
    "    print(post.id, post.title, ':', len(post.content), '글자')"
   ]
  },
  {
   "cell_type": "markdown",
   "metadata": {},
   "source": [
    "### ModelForm 설정"
   ]
  },
  {
   "cell_type": "code",
   "execution_count": 18,
   "metadata": {},
   "outputs": [],
   "source": [
    "class PostForm(forms.ModelForm):\n",
    "    class Meta:\n",
    "        model = Post\n",
    "        fields = '__all__'"
   ]
  },
  {
   "cell_type": "code",
   "execution_count": 19,
   "metadata": {},
   "outputs": [],
   "source": [
    "form = PostForm({'title': 'hello'})"
   ]
  },
  {
   "cell_type": "code",
   "execution_count": 20,
   "metadata": {},
   "outputs": [
    {
     "data": {
      "text/plain": [
       "False"
      ]
     },
     "execution_count": 20,
     "metadata": {},
     "output_type": "execute_result"
    }
   ],
   "source": [
    "form.is_valid()"
   ]
  },
  {
   "cell_type": "code",
   "execution_count": 21,
   "metadata": {},
   "outputs": [
    {
     "data": {
      "text/plain": [
       "{'content': ['This field is required.']}"
      ]
     },
     "execution_count": 21,
     "metadata": {},
     "output_type": "execute_result"
    }
   ],
   "source": [
    "form.errors"
   ]
  },
  {
   "cell_type": "code",
   "execution_count": null,
   "metadata": {},
   "outputs": [],
   "source": []
  }
 ],
 "metadata": {
  "kernelspec": {
   "display_name": "Python 3",
   "language": "python",
   "name": "python3"
  },
  "language_info": {
   "codemirror_mode": {
    "name": "ipython",
    "version": 3
   },
   "file_extension": ".py",
   "mimetype": "text/x-python",
   "name": "python",
   "nbconvert_exporter": "python",
   "pygments_lexer": "ipython3",
   "version": "3.6.5"
  }
 },
 "nbformat": 4,
 "nbformat_minor": 2
}
