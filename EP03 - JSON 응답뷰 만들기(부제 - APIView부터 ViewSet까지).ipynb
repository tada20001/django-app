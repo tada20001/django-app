{
 "cells": [
  {
   "cell_type": "markdown",
   "metadata": {},
   "source": [
    "장고에서는 뷰를 통한 HTTP 요청을 처리함.\n",
    "장고의 기본함수기반뷰/클래스기반뷰를 활용해도 API를 충분히 만들 수 있음.\n",
    "그러나 rest_framework의 APIView/ViewSet을 활용하면 API뷰를 보다 적은 양의 코드로 작성할 수 있음."
   ]
  },
  {
   "cell_type": "markdown",
   "metadata": {},
   "source": [
    "## APIView 클래스와 api_view 장식자\n",
    "APIView클래스와 api_view 장식자는 뷰에 여러 기본 설정을 부여합니다. 관련코드\n",
    "\n",
    "#### 직렬화 클래스 지정 : renderer_classes 속성 (list)\n",
    "디폴트\n",
    "+ rest_framework.renderers.JSONRenderer : JSON 직렬화\n",
    "+ rest_framework.renderers.TemplateHTMLRenderer : HTML 페이지 직렬화\n",
    "\n",
    "#### 비직렬화 클래스 지정 : parser_classes 속성 (list)\n",
    "디폴트\n",
    "+ rest_framework.parsers.JSONParser : JSON 포맷 처리\n",
    "+ rest_framework.parsers.FormParser\n",
    "+ rest_framework.parsers.MultiPartParser\n",
    "\n",
    "#### 인증 클래스 지정 : authentication_classes 속성 (list) ==> 셋팅 중요\n",
    "디폴트\n",
    "+ rest_framework.authentication.SessionAuthentication : 세션에 기반한 인증\n",
    "+ rest_framework.authentication.BasicAuthentication : HTTP Basic 인증\n",
    "\n",
    "#### 사용량 제한 클래스 지정 : throttle_classes 속성 (list)  ==> 셋팅 중요\n",
    "디폴트 : 빈 튜플\n",
    "\n",
    "#### 권한 클래스 지정 : permission_classes 속성 (list)  ==> 셋팅 중요\n",
    "디폴트\n",
    "+ rest_framework.permissions.AllowAny : 누구라도 접근 허용\n",
    "\n",
    "##### 요청에 따라 적절한 직렬화/비직렬화 클래스를 선택 : content_negotiation_class 속성 (문자열)\n",
    "+ 같은 URL로의 요청이지만, JSON응답을 요구하는 것이냐 / HTML응답을 요구하는 것인지 판단\n",
    "+ 디폴트 : rest_framework.negotiation.DefaultContentNegotiation\n",
    "\n",
    "##### 요청 내역에서 API 버전 정보를 탐지할 클래스 지정 : versioning_class 속성\n",
    "+ 디폴트 : None : API 버전 정보를 탐지하지 않겠다.\n",
    "+ 요청 URL에서, GET인자에서, HEADER에서 버전정보를 탐지하여, 해당 버전의 API뷰를 호출토록 합니다."
   ]
  },
  {
   "cell_type": "markdown",
   "metadata": {},
   "source": [
    "### APIView tutorial http://www.django-rest-framework.org/tutorial/3-class-based-views/"
   ]
  },
  {
   "cell_type": "markdown",
   "metadata": {},
   "source": [
    "### APIView 샘플\n",
    "\n",
    "APIView는 django-rest-framework의 Class Based View임.\n",
    "1. 하나의 Class Based View이기 때문에 한 URL에서 처리\n",
    " \n",
    " /post/에 대한 CBV일 경우\n",
    "    + get 요청 : 포스팅 목록 요청\n",
    "    + post 요청 : 새 포스팅 등록 요청\n",
    "    \n",
    " /post/10/에 대한 CBV일 경우\n",
    "    + get 요청 : 10번 포스팅 내용 요청\n",
    "    + put 요청 : 10번 포스팅 내용 수정 요청\n",
    "    + delete 요청 : 10번 포스팅 내용 삭제 요청\n",
    "   \n",
    "2. 요청 method에 맞게 멤버함수를 정의하면 해당 method 요청이 들어올때 호출됨\n",
    "    + def get(self, request)\n",
    "    + def post(self, request)\n",
    "    + def put(self, request)\n",
    "    + def delete(self, request)\n",
    "    \n",
    "3. 각 method가 호출될 때 다음 처리가 이루어짐\n",
    "    + 직렬화/비직렬화\n",
    "    + 인증처리 : 인증체크\n",
    "    + 사용량 제한 체크 : 호출 허용량 범위인지 체크\n",
    "    + 권한 클래스 지정 : 비인증유저/인증유저에 대해 해당 API호출을 허용할 것인지 결정\n",
    "    + 요청된 API 버전 문자열을 탐지하여 request.version에 저장"
   ]
  },
  {
   "cell_type": "raw",
   "metadata": {},
   "source": [
    "<예시 : APIView를 활용한 글목록 응답/새글 등록 처리 CBV>\n",
    "\n",
    "from rest_framework.response import Response\n",
    "from rest_framework.views import APIView\n",
    "from .models import Post\n",
    "from .serializers import PostSerializer\n",
    "\n",
    "class PostListAPIView(APIView):\n",
    "    def get(self, request):\n",
    "        serializer = PostSerializer(Post.objects.all(), many=True)\n",
    "        return Response(serializer.data)\n",
    "    \n",
    "    def post(self, request):\n",
    "        serializer = PostSerializer(data=request.data)\n",
    "        if serializer.is_valid():\n",
    "            serializer.save()\n",
    "            return Response(serializer.data, status=201)\n",
    "        return Response(serializer.errors, status=400)"
   ]
  },
  {
   "cell_type": "code",
   "execution_count": null,
   "metadata": {},
   "outputs": [],
   "source": []
  }
 ],
 "metadata": {
  "kernelspec": {
   "display_name": "Django Shell-Plus",
   "language": "python",
   "name": "django_extensions"
  },
  "language_info": {
   "codemirror_mode": {
    "name": "ipython",
    "version": 3
   },
   "file_extension": ".py",
   "mimetype": "text/x-python",
   "name": "python",
   "nbconvert_exporter": "python",
   "pygments_lexer": "ipython3",
   "version": "3.6.5"
  }
 },
 "nbformat": 4,
 "nbformat_minor": 2
}
